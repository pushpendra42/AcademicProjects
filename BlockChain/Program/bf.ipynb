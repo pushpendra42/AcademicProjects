{
 "cells": [
  {
   "cell_type": "code",
   "execution_count": 271,
   "metadata": {},
   "outputs": [],
   "source": [
    "mcf=[]\n",
    "\n",
    "def ComputeBF(k,s):\n",
    "    remainder=0\n",
    "    selction=0\n",
    "    direct=0\n",
    "    base=0\n",
    "    len2=0\n",
    "    \n",
    "    if k==1:\n",
    "        mcf_k1=s+1\n",
    "        return mcf_k1\n",
    "    else:\n",
    "        remainder=s % 3\n",
    "        selction = int(s/3)\n",
    "        direct=selction % 2\n",
    "        base=int(selction/2)*3\n",
    "        len2=pow(2, k-1)\n",
    "        \n",
    "        if direct==0:\n",
    "            return ComputeBF(k-1,base+((remainder+1)%3))*pow(2,len2)+ComputeBF(k-1,base+((remainder+2)%3))\n",
    "        else:\n",
    "            return pow(2,len2) * ComputeBF(k-1,base+((remainder+2)%3))+ ComputeBF(k-1,base+((remainder+1)%3))\n",
    "                   \n",
    "            \n",
    "    print(\"\")\n",
    "    "
   ]
  },
  {
   "cell_type": "code",
   "execution_count": 277,
   "metadata": {},
   "outputs": [
    {
     "name": "stdout",
     "output_type": "stream",
     "text": [
      "0  =  bdd6d66b\n",
      "1  =  d66b6bbd\n",
      "2  =  6bbdbdd6\n",
      "3  =  d66bbdd6\n",
      "4  =  6bbdd66b\n",
      "5  =  bdd66bbd\n",
      "6  =  d6bd6bd6\n",
      "7  =  6bd6bd6b\n",
      "8  =  bd6bd6bd\n",
      "9  =  6bd6d6bd\n",
      "10  =  bd6b6bd6\n",
      "11  =  d6bdbd6b\n",
      "12  =  db6d6db6\n",
      "13  =  6db6b6db\n",
      "14  =  b6dbdb6d\n",
      "15  =  6db6db6d\n",
      "16  =  b6db6db6\n",
      "17  =  db6db6db\n",
      "18  =  6ddbb66d\n",
      "19  =  b66ddbb6\n",
      "20  =  dbb66ddb\n",
      "21  =  b66d6ddb\n",
      "22  =  dbb6b66d\n",
      "23  =  6ddbdbb6\n",
      "24  =  e779799e\n",
      "25  =  799e9ee7\n",
      "26  =  9ee7e779\n",
      "27  =  799ee779\n",
      "28  =  9ee7799e\n",
      "29  =  e7799ee7\n",
      "30  =  79e79e79\n",
      "31  =  9e79e79e\n",
      "32  =  e79e79e7\n",
      "33  =  9e7979e7\n",
      "34  =  e79e9e79\n",
      "35  =  79e7e79e\n",
      "36  =  7e9797e9\n",
      "37  =  97e9e97e\n",
      "38  =  e97e7e97\n",
      "39  =  97e97e97\n",
      "40  =  e97e97e9\n",
      "41  =  7e97e97e\n",
      "42  =  977ee997\n",
      "43  =  e9977ee9\n",
      "44  =  7ee9977e\n",
      "45  =  e997977e\n",
      "46  =  7ee9e997\n",
      "47  =  977e7ee9\n"
     ]
    }
   ],
   "source": [
    "k=5\n",
    "s=3*pow(2,k-1)\n",
    "i=0\n",
    "\n",
    "while i<s:\n",
    "    x=ComputeBF(k,i)\n",
    "    print(i,\" = \",hex(x).split('x')[-1])\n",
    "    i=i+1"
   ]
  },
  {
   "cell_type": "code",
   "execution_count": null,
   "metadata": {},
   "outputs": [],
   "source": []
  }
 ],
 "metadata": {
  "kernelspec": {
   "display_name": "Python 3",
   "language": "python",
   "name": "python3"
  },
  "language_info": {
   "codemirror_mode": {
    "name": "ipython",
    "version": 3
   },
   "file_extension": ".py",
   "mimetype": "text/x-python",
   "name": "python",
   "nbconvert_exporter": "python",
   "pygments_lexer": "ipython3",
   "version": "3.6.5"
  }
 },
 "nbformat": 4,
 "nbformat_minor": 2
}
